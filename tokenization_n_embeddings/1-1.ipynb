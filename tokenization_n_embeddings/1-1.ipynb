{
 "cells": [
  {
   "cell_type": "code",
   "execution_count": 3,
   "id": "9f6f4218",
   "metadata": {},
   "outputs": [],
   "source": [
    "from task_1_1_bpe import BPE"
   ]
  },
  {
   "cell_type": "markdown",
   "id": "c0710f05",
   "metadata": {},
   "source": [
    "# Why Normalize ?\n",
    "1. Consistency: ensure unform representation of text \n",
    "2. Reduced Vocabulary size\n",
    "3. Reduce sparsity in the data\n",
    "4. Normalize different representation of the same word"
   ]
  },
  {
   "cell_type": "markdown",
   "id": "1d26088d",
   "metadata": {},
   "source": [
    "# What are the other options of normalization ?\n",
    "1. **Case Folding:** Convert to uppercase / lowercase\n",
    "2. **Unicode Normalization:** Handle Accented characters\n",
    "3. **Number Normalization:** Replace numbers with a special token\n",
    "4. **Punctuation Handling:** Remove or Standardize puntuation\n",
    "5. **White Space Normalization:** Standardize spaces, tabs, newlines"
   ]
  },
  {
   "cell_type": "code",
   "execution_count": null,
   "id": "ba5c77b4",
   "metadata": {},
   "outputs": [],
   "source": [
    "import unicodedata\n",
    "import re\n",
    "\n",
    "def normalize_text(text: str) -> str:\n",
    "    # Convert to lowercase\n",
    "    text = text.lower()\n",
    "    # Normalize unicode characters\n",
    "    text = unicodedata.normalize('NFKD', text).encode('ascii', 'ignore').decode('utf-8')\n",
    "    # Remove special characters (keep alphanumeric and basic punctuation)\n",
    "    text = re.sub(r'[^a-z0-9\\s.,!?]', '', text)\n",
    "    # Normalize whitespace\n",
    "    text = ' '.join(text.split())\n",
    "    return text"
   ]
  },
  {
   "cell_type": "markdown",
   "id": "4a62e7f6",
   "metadata": {},
   "source": [
    "# Why we are using GPT2 tokenizer ?\n",
    "- **Pre-trained Subword Units:** Handle wide range of Vocabulary\n",
    "- **Handles Unknown Words:** Uses byte-level BPE for better OOV handling\n",
    "- **Efficient Implementation:** Optimized for performance\n",
    "- **Standardized:** Consistent tokenization across different models"
   ]
  },
  {
   "cell_type": "markdown",
   "id": "e79f5920",
   "metadata": {},
   "source": [
    "# How it is handling unseen tokens ?\n",
    "1. Character-level Fallback: Decomposes unknown words into known subwords\n",
    "2. Byte-level Encoding: Represents any character sequence\n",
    "3. Merge Operations: Applies learned merge rules"
   ]
  },
  {
   "cell_type": "markdown",
   "id": "a52b2537",
   "metadata": {},
   "source": [
    "- Small Dataset: 50-100 lines of poetry (for quick experimentation)\n",
    "- Medium Dataset: 10,000 lines from Project Gutenberg (for meaningful patterns)\n",
    "- Large Dataset: Full 3M lines (for production-quality training)\n"
   ]
  },
  {
   "cell_type": "code",
   "execution_count": 15,
   "id": "eae393cf",
   "metadata": {},
   "outputs": [
    {
     "name": "stdout",
     "output_type": "stream",
     "text": [
      "^C\n",
      "Note: you may need to restart the kernel to use updated packages.\n"
     ]
    },
    {
     "name": "stdout",
     "output_type": "stream",
     "text": [
      "Collecting datasets\n",
      "  Downloading datasets-4.1.1-py3-none-any.whl.metadata (18 kB)\n",
      "Requirement already satisfied: filelock in c:\\users\\praty\\desktop\\gsoc\\notes on lm\\.venv\\lib\\site-packages (from datasets) (3.19.1)\n",
      "Requirement already satisfied: numpy>=1.17 in c:\\users\\praty\\desktop\\gsoc\\notes on lm\\.venv\\lib\\site-packages (from datasets) (2.3.3)\n",
      "Collecting pyarrow>=21.0.0 (from datasets)\n",
      "  Using cached pyarrow-21.0.0-cp313-cp313-win_amd64.whl.metadata (3.4 kB)\n",
      "Collecting dill<0.4.1,>=0.3.0 (from datasets)\n",
      "  Using cached dill-0.4.0-py3-none-any.whl.metadata (10 kB)\n",
      "Collecting pandas (from datasets)\n",
      "  Downloading pandas-2.3.3-cp313-cp313-win_amd64.whl.metadata (19 kB)\n",
      "Requirement already satisfied: requests>=2.32.2 in c:\\users\\praty\\desktop\\gsoc\\notes on lm\\.venv\\lib\\site-packages (from datasets) (2.32.5)\n",
      "Requirement already satisfied: tqdm>=4.66.3 in c:\\users\\praty\\desktop\\gsoc\\notes on lm\\.venv\\lib\\site-packages (from datasets) (4.67.1)\n",
      "Collecting xxhash (from datasets)\n",
      "  Downloading xxhash-3.6.0-cp313-cp313-win_amd64.whl.metadata (13 kB)\n",
      "Collecting multiprocess<0.70.17 (from datasets)\n",
      "  Using cached multiprocess-0.70.16-py312-none-any.whl.metadata (7.2 kB)\n",
      "Requirement already satisfied: fsspec<=2025.9.0,>=2023.1.0 in c:\\users\\praty\\desktop\\gsoc\\notes on lm\\.venv\\lib\\site-packages (from fsspec[http]<=2025.9.0,>=2023.1.0->datasets) (2025.9.0)\n",
      "Requirement already satisfied: huggingface-hub>=0.24.0 in c:\\users\\praty\\desktop\\gsoc\\notes on lm\\.venv\\lib\\site-packages (from datasets) (0.35.3)\n",
      "Requirement already satisfied: packaging in c:\\users\\praty\\desktop\\gsoc\\notes on lm\\.venv\\lib\\site-packages (from datasets) (25.0)\n",
      "Requirement already satisfied: pyyaml>=5.1 in c:\\users\\praty\\desktop\\gsoc\\notes on lm\\.venv\\lib\\site-packages (from datasets) (6.0.3)\n",
      "Collecting aiohttp!=4.0.0a0,!=4.0.0a1 (from fsspec[http]<=2025.9.0,>=2023.1.0->datasets)\n",
      "  Downloading aiohttp-3.13.0-cp313-cp313-win_amd64.whl.metadata (8.4 kB)\n",
      "Collecting aiohappyeyeballs>=2.5.0 (from aiohttp!=4.0.0a0,!=4.0.0a1->fsspec[http]<=2025.9.0,>=2023.1.0->datasets)\n",
      "  Using cached aiohappyeyeballs-2.6.1-py3-none-any.whl.metadata (5.9 kB)\n",
      "Collecting aiosignal>=1.4.0 (from aiohttp!=4.0.0a0,!=4.0.0a1->fsspec[http]<=2025.9.0,>=2023.1.0->datasets)\n",
      "  Using cached aiosignal-1.4.0-py3-none-any.whl.metadata (3.7 kB)\n",
      "Collecting attrs>=17.3.0 (from aiohttp!=4.0.0a0,!=4.0.0a1->fsspec[http]<=2025.9.0,>=2023.1.0->datasets)\n",
      "  Downloading attrs-25.4.0-py3-none-any.whl.metadata (10 kB)\n",
      "Collecting frozenlist>=1.1.1 (from aiohttp!=4.0.0a0,!=4.0.0a1->fsspec[http]<=2025.9.0,>=2023.1.0->datasets)\n",
      "  Downloading frozenlist-1.8.0-cp313-cp313-win_amd64.whl.metadata (21 kB)\n",
      "Collecting multidict<7.0,>=4.5 (from aiohttp!=4.0.0a0,!=4.0.0a1->fsspec[http]<=2025.9.0,>=2023.1.0->datasets)\n",
      "  Downloading multidict-6.7.0-cp313-cp313-win_amd64.whl.metadata (5.5 kB)\n",
      "Collecting propcache>=0.2.0 (from aiohttp!=4.0.0a0,!=4.0.0a1->fsspec[http]<=2025.9.0,>=2023.1.0->datasets)\n",
      "  Downloading propcache-0.4.1-cp313-cp313-win_amd64.whl.metadata (14 kB)\n",
      "Collecting yarl<2.0,>=1.17.0 (from aiohttp!=4.0.0a0,!=4.0.0a1->fsspec[http]<=2025.9.0,>=2023.1.0->datasets)\n",
      "  Downloading yarl-1.22.0-cp313-cp313-win_amd64.whl.metadata (77 kB)\n",
      "Requirement already satisfied: idna>=2.0 in c:\\users\\praty\\desktop\\gsoc\\notes on lm\\.venv\\lib\\site-packages (from yarl<2.0,>=1.17.0->aiohttp!=4.0.0a0,!=4.0.0a1->fsspec[http]<=2025.9.0,>=2023.1.0->datasets) (3.10)\n",
      "Requirement already satisfied: typing-extensions>=3.7.4.3 in c:\\users\\praty\\desktop\\gsoc\\notes on lm\\.venv\\lib\\site-packages (from huggingface-hub>=0.24.0->datasets) (4.15.0)\n",
      "Requirement already satisfied: charset_normalizer<4,>=2 in c:\\users\\praty\\desktop\\gsoc\\notes on lm\\.venv\\lib\\site-packages (from requests>=2.32.2->datasets) (3.4.3)\n",
      "Requirement already satisfied: urllib3<3,>=1.21.1 in c:\\users\\praty\\desktop\\gsoc\\notes on lm\\.venv\\lib\\site-packages (from requests>=2.32.2->datasets) (2.5.0)\n",
      "Requirement already satisfied: certifi>=2017.4.17 in c:\\users\\praty\\desktop\\gsoc\\notes on lm\\.venv\\lib\\site-packages (from requests>=2.32.2->datasets) (2025.10.5)\n",
      "Requirement already satisfied: colorama in c:\\users\\praty\\desktop\\gsoc\\notes on lm\\.venv\\lib\\site-packages (from tqdm>=4.66.3->datasets) (0.4.6)\n",
      "Requirement already satisfied: python-dateutil>=2.8.2 in c:\\users\\praty\\desktop\\gsoc\\notes on lm\\.venv\\lib\\site-packages (from pandas->datasets) (2.9.0.post0)\n",
      "Collecting pytz>=2020.1 (from pandas->datasets)\n",
      "  Using cached pytz-2025.2-py2.py3-none-any.whl.metadata (22 kB)\n",
      "Collecting tzdata>=2022.7 (from pandas->datasets)\n",
      "  Using cached tzdata-2025.2-py2.py3-none-any.whl.metadata (1.4 kB)\n",
      "Requirement already satisfied: six>=1.5 in c:\\users\\praty\\desktop\\gsoc\\notes on lm\\.venv\\lib\\site-packages (from python-dateutil>=2.8.2->pandas->datasets) (1.17.0)\n",
      "Downloading datasets-4.1.1-py3-none-any.whl (503 kB)\n",
      "Using cached dill-0.4.0-py3-none-any.whl (119 kB)\n",
      "Using cached multiprocess-0.70.16-py312-none-any.whl (146 kB)\n",
      "Downloading aiohttp-3.13.0-cp313-cp313-win_amd64.whl (450 kB)\n",
      "Downloading multidict-6.7.0-cp313-cp313-win_amd64.whl (45 kB)\n",
      "Downloading yarl-1.22.0-cp313-cp313-win_amd64.whl (86 kB)\n",
      "Using cached aiohappyeyeballs-2.6.1-py3-none-any.whl (15 kB)\n",
      "Using cached aiosignal-1.4.0-py3-none-any.whl (7.5 kB)\n",
      "Downloading attrs-25.4.0-py3-none-any.whl (67 kB)\n",
      "Downloading frozenlist-1.8.0-cp313-cp313-win_amd64.whl (43 kB)\n",
      "Downloading propcache-0.4.1-cp313-cp313-win_amd64.whl (40 kB)\n",
      "Using cached pyarrow-21.0.0-cp313-cp313-win_amd64.whl (26.1 MB)\n",
      "Downloading pandas-2.3.3-cp313-cp313-win_amd64.whl (11.0 MB)\n",
      "   ---------------------------------------- 0.0/11.0 MB ? eta -:--:--\n",
      "   -- ------------------------------------- 0.8/11.0 MB 5.5 MB/s eta 0:00:02\n",
      "   ------- -------------------------------- 2.1/11.0 MB 5.3 MB/s eta 0:00:02\n",
      "   ------------ --------------------------- 3.4/11.0 MB 5.6 MB/s eta 0:00:02\n",
      "   ---------------- ----------------------- 4.5/11.0 MB 5.5 MB/s eta 0:00:02\n",
      "   -------------------- ------------------- 5.5/11.0 MB 5.5 MB/s eta 0:00:01\n",
      "   ------------------------ --------------- 6.8/11.0 MB 5.7 MB/s eta 0:00:01\n",
      "   ------------------------------ --------- 8.4/11.0 MB 5.8 MB/s eta 0:00:01\n",
      "   ----------------------------------- ---- 9.7/11.0 MB 5.9 MB/s eta 0:00:01\n",
      "   ---------------------------------------- 11.0/11.0 MB 5.9 MB/s eta 0:00:00\n",
      "Using cached pytz-2025.2-py2.py3-none-any.whl (509 kB)\n",
      "Using cached tzdata-2025.2-py2.py3-none-any.whl (347 kB)\n",
      "Downloading xxhash-3.6.0-cp313-cp313-win_amd64.whl (31 kB)\n",
      "Installing collected packages: pytz, xxhash, tzdata, pyarrow, propcache, multidict, frozenlist, dill, attrs, aiohappyeyeballs, yarl, pandas, multiprocess, aiosignal, aiohttp, datasets\n",
      "\n",
      "   ----------------------------------------  0/16 [pytz]\n",
      "   ----------------------------------------  0/16 [pytz]\n",
      "   ----------------------------------------  0/16 [pytz]\n",
      "   -- -------------------------------------  1/16 [xxhash]\n",
      "   ----- ----------------------------------  2/16 [tzdata]\n",
      "   ----- ----------------------------------  2/16 [tzdata]\n",
      "   ------- --------------------------------  3/16 [pyarrow]\n",
      "   ------- --------------------------------  3/16 [pyarrow]\n",
      "   ------- --------------------------------  3/16 [pyarrow]\n",
      "   ------- --------------------------------  3/16 [pyarrow]\n",
      "   ------- --------------------------------  3/16 [pyarrow]\n",
      "   ------- --------------------------------  3/16 [pyarrow]\n",
      "   ------- --------------------------------  3/16 [pyarrow]\n",
      "   ------- --------------------------------  3/16 [pyarrow]\n",
      "   ------- --------------------------------  3/16 [pyarrow]\n",
      "   ------- --------------------------------  3/16 [pyarrow]\n",
      "   ------- --------------------------------  3/16 [pyarrow]\n",
      "   ------- --------------------------------  3/16 [pyarrow]\n",
      "   ------- --------------------------------  3/16 [pyarrow]\n",
      "   ------- --------------------------------  3/16 [pyarrow]\n",
      "   ------- --------------------------------  3/16 [pyarrow]\n",
      "   ------- --------------------------------  3/16 [pyarrow]\n",
      "   ------- --------------------------------  3/16 [pyarrow]\n",
      "   ------- --------------------------------  3/16 [pyarrow]\n",
      "   ------- --------------------------------  3/16 [pyarrow]\n",
      "   ------- --------------------------------  3/16 [pyarrow]\n",
      "   ------- --------------------------------  3/16 [pyarrow]\n",
      "   ------- --------------------------------  3/16 [pyarrow]\n",
      "   ------- --------------------------------  3/16 [pyarrow]\n",
      "   ------- --------------------------------  3/16 [pyarrow]\n",
      "   ------- --------------------------------  3/16 [pyarrow]\n",
      "   ------- --------------------------------  3/16 [pyarrow]\n",
      "   ------- --------------------------------  3/16 [pyarrow]\n",
      "   ------- --------------------------------  3/16 [pyarrow]\n",
      "   ------- --------------------------------  3/16 [pyarrow]\n",
      "   ------- --------------------------------  3/16 [pyarrow]\n",
      "   ------- --------------------------------  3/16 [pyarrow]\n",
      "   ------- --------------------------------  3/16 [pyarrow]\n",
      "   ---------- -----------------------------  4/16 [propcache]\n",
      "   ------------ ---------------------------  5/16 [multidict]\n",
      "   --------------- ------------------------  6/16 [frozenlist]\n",
      "   ----------------- ----------------------  7/16 [dill]\n",
      "   ----------------- ----------------------  7/16 [dill]\n",
      "   ----------------- ----------------------  7/16 [dill]\n",
      "   ----------------- ----------------------  7/16 [dill]\n",
      "   ----------------- ----------------------  7/16 [dill]\n",
      "   ----------------- ----------------------  7/16 [dill]\n",
      "   ----------------- ----------------------  7/16 [dill]\n",
      "   ----------------- ----------------------  7/16 [dill]\n",
      "   ----------------- ----------------------  7/16 [dill]\n",
      "   ----------------- ----------------------  7/16 [dill]\n",
      "   -------------------- -------------------  8/16 [attrs]\n",
      "   -------------------- -------------------  8/16 [attrs]\n",
      "   -------------------- -------------------  8/16 [attrs]\n",
      "   -------------------- -------------------  8/16 [attrs]\n",
      "   ---------------------- -----------------  9/16 [aiohappyeyeballs]\n",
      "   ------------------------- -------------- 10/16 [yarl]\n",
      "   ------------------------- -------------- 10/16 [yarl]\n",
      "   --------------------------- ------------ 11/16 [pandas]\n",
      "   --------------------------- ------------ 11/16 [pandas]\n",
      "   --------------------------- ------------ 11/16 [pandas]\n",
      "   --------------------------- ------------ 11/16 [pandas]\n",
      "   --------------------------- ------------ 11/16 [pandas]\n",
      "   --------------------------- ------------ 11/16 [pandas]\n",
      "   --------------------------- ------------ 11/16 [pandas]\n",
      "   --------------------------- ------------ 11/16 [pandas]\n",
      "   --------------------------- ------------ 11/16 [pandas]\n",
      "   --------------------------- ------------ 11/16 [pandas]\n",
      "   --------------------------- ------------ 11/16 [pandas]\n",
      "   --------------------------- ------------ 11/16 [pandas]\n",
      "   --------------------------- ------------ 11/16 [pandas]\n",
      "   --------------------------- ------------ 11/16 [pandas]\n",
      "   --------------------------- ------------ 11/16 [pandas]\n",
      "   --------------------------- ------------ 11/16 [pandas]\n",
      "   --------------------------- ------------ 11/16 [pandas]\n",
      "   --------------------------- ------------ 11/16 [pandas]\n",
      "   --------------------------- ------------ 11/16 [pandas]\n",
      "   --------------------------- ------------ 11/16 [pandas]\n",
      "   --------------------------- ------------ 11/16 [pandas]\n",
      "   --------------------------- ------------ 11/16 [pandas]\n",
      "   --------------------------- ------------ 11/16 [pandas]\n",
      "   --------------------------- ------------ 11/16 [pandas]\n",
      "   --------------------------- ------------ 11/16 [pandas]\n",
      "   --------------------------- ------------ 11/16 [pandas]\n",
      "   --------------------------- ------------ 11/16 [pandas]\n",
      "   --------------------------- ------------ 11/16 [pandas]\n",
      "   --------------------------- ------------ 11/16 [pandas]\n",
      "   --------------------------- ------------ 11/16 [pandas]\n",
      "   --------------------------- ------------ 11/16 [pandas]\n",
      "   --------------------------- ------------ 11/16 [pandas]\n",
      "   --------------------------- ------------ 11/16 [pandas]\n",
      "   --------------------------- ------------ 11/16 [pandas]\n",
      "   --------------------------- ------------ 11/16 [pandas]\n",
      "   --------------------------- ------------ 11/16 [pandas]\n",
      "   --------------------------- ------------ 11/16 [pandas]\n",
      "   --------------------------- ------------ 11/16 [pandas]\n",
      "   --------------------------- ------------ 11/16 [pandas]\n",
      "   --------------------------- ------------ 11/16 [pandas]\n",
      "   --------------------------- ------------ 11/16 [pandas]\n",
      "   --------------------------- ------------ 11/16 [pandas]\n",
      "   --------------------------- ------------ 11/16 [pandas]\n",
      "   --------------------------- ------------ 11/16 [pandas]\n",
      "   --------------------------- ------------ 11/16 [pandas]\n",
      "   --------------------------- ------------ 11/16 [pandas]\n",
      "   --------------------------- ------------ 11/16 [pandas]\n",
      "   --------------------------- ------------ 11/16 [pandas]\n",
      "   --------------------------- ------------ 11/16 [pandas]\n",
      "   --------------------------- ------------ 11/16 [pandas]\n",
      "   --------------------------- ------------ 11/16 [pandas]\n",
      "   --------------------------- ------------ 11/16 [pandas]\n",
      "   --------------------------- ------------ 11/16 [pandas]\n",
      "   --------------------------- ------------ 11/16 [pandas]\n",
      "   --------------------------- ------------ 11/16 [pandas]\n",
      "   --------------------------- ------------ 11/16 [pandas]\n",
      "   --------------------------- ------------ 11/16 [pandas]\n",
      "   --------------------------- ------------ 11/16 [pandas]\n",
      "   --------------------------- ------------ 11/16 [pandas]\n",
      "   --------------------------- ------------ 11/16 [pandas]\n",
      "   --------------------------- ------------ 11/16 [pandas]\n",
      "   --------------------------- ------------ 11/16 [pandas]\n",
      "   --------------------------- ------------ 11/16 [pandas]\n",
      "   --------------------------- ------------ 11/16 [pandas]\n",
      "   --------------------------- ------------ 11/16 [pandas]\n",
      "   --------------------------- ------------ 11/16 [pandas]\n",
      "   --------------------------- ------------ 11/16 [pandas]\n",
      "   --------------------------- ------------ 11/16 [pandas]\n",
      "   --------------------------- ------------ 11/16 [pandas]\n",
      "   --------------------------- ------------ 11/16 [pandas]\n",
      "   --------------------------- ------------ 11/16 [pandas]\n",
      "   --------------------------- ------------ 11/16 [pandas]\n",
      "   --------------------------- ------------ 11/16 [pandas]\n",
      "   --------------------------- ------------ 11/16 [pandas]\n",
      "   --------------------------- ------------ 11/16 [pandas]\n",
      "   --------------------------- ------------ 11/16 [pandas]\n",
      "   --------------------------- ------------ 11/16 [pandas]\n",
      "   --------------------------- ------------ 11/16 [pandas]\n",
      "   --------------------------- ------------ 11/16 [pandas]\n",
      "   --------------------------- ------------ 11/16 [pandas]\n",
      "   --------------------------- ------------ 11/16 [pandas]\n",
      "   --------------------------- ------------ 11/16 [pandas]\n",
      "   --------------------------- ------------ 11/16 [pandas]\n",
      "   --------------------------- ------------ 11/16 [pandas]\n",
      "   --------------------------- ------------ 11/16 [pandas]\n",
      "   --------------------------- ------------ 11/16 [pandas]\n",
      "   --------------------------- ------------ 11/16 [pandas]\n",
      "   --------------------------- ------------ 11/16 [pandas]\n",
      "   --------------------------- ------------ 11/16 [pandas]\n",
      "   --------------------------- ------------ 11/16 [pandas]\n",
      "   --------------------------- ------------ 11/16 [pandas]\n",
      "   --------------------------- ------------ 11/16 [pandas]\n",
      "   --------------------------- ------------ 11/16 [pandas]\n",
      "   --------------------------- ------------ 11/16 [pandas]\n",
      "   --------------------------- ------------ 11/16 [pandas]\n",
      "   --------------------------- ------------ 11/16 [pandas]\n",
      "   --------------------------- ------------ 11/16 [pandas]\n",
      "   --------------------------- ------------ 11/16 [pandas]\n",
      "   --------------------------- ------------ 11/16 [pandas]\n",
      "   --------------------------- ------------ 11/16 [pandas]\n",
      "   --------------------------- ------------ 11/16 [pandas]\n",
      "   --------------------------- ------------ 11/16 [pandas]\n",
      "   --------------------------- ------------ 11/16 [pandas]\n",
      "   --------------------------- ------------ 11/16 [pandas]\n",
      "   --------------------------- ------------ 11/16 [pandas]\n",
      "   --------------------------- ------------ 11/16 [pandas]\n",
      "   --------------------------- ------------ 11/16 [pandas]\n",
      "   --------------------------- ------------ 11/16 [pandas]\n",
      "   --------------------------- ------------ 11/16 [pandas]\n",
      "   --------------------------- ------------ 11/16 [pandas]\n",
      "   --------------------------- ------------ 11/16 [pandas]\n",
      "   --------------------------- ------------ 11/16 [pandas]\n",
      "   --------------------------- ------------ 11/16 [pandas]\n",
      "   --------------------------- ------------ 11/16 [pandas]\n",
      "   --------------------------- ------------ 11/16 [pandas]\n",
      "   --------------------------- ------------ 11/16 [pandas]\n",
      "   --------------------------- ------------ 11/16 [pandas]\n",
      "   --------------------------- ------------ 11/16 [pandas]\n",
      "   --------------------------- ------------ 11/16 [pandas]\n",
      "   --------------------------- ------------ 11/16 [pandas]\n",
      "   --------------------------- ------------ 11/16 [pandas]\n",
      "   --------------------------- ------------ 11/16 [pandas]\n",
      "   --------------------------- ------------ 11/16 [pandas]\n",
      "   --------------------------- ------------ 11/16 [pandas]\n",
      "   --------------------------- ------------ 11/16 [pandas]\n",
      "   --------------------------- ------------ 11/16 [pandas]\n",
      "   --------------------------- ------------ 11/16 [pandas]\n",
      "   --------------------------- ------------ 11/16 [pandas]\n",
      "   --------------------------- ------------ 11/16 [pandas]\n",
      "   --------------------------- ------------ 11/16 [pandas]\n",
      "   --------------------------- ------------ 11/16 [pandas]\n",
      "   --------------------------- ------------ 11/16 [pandas]\n",
      "   --------------------------- ------------ 11/16 [pandas]\n",
      "   --------------------------- ------------ 11/16 [pandas]\n",
      "   --------------------------- ------------ 11/16 [pandas]\n",
      "   --------------------------- ------------ 11/16 [pandas]\n",
      "   --------------------------- ------------ 11/16 [pandas]\n",
      "   --------------------------- ------------ 11/16 [pandas]\n",
      "   --------------------------- ------------ 11/16 [pandas]\n",
      "   --------------------------- ------------ 11/16 [pandas]\n",
      "   --------------------------- ------------ 11/16 [pandas]\n",
      "   --------------------------- ------------ 11/16 [pandas]\n",
      "   --------------------------- ------------ 11/16 [pandas]\n",
      "   --------------------------- ------------ 11/16 [pandas]\n",
      "   --------------------------- ------------ 11/16 [pandas]\n",
      "   --------------------------- ------------ 11/16 [pandas]\n",
      "   --------------------------- ------------ 11/16 [pandas]\n",
      "   --------------------------- ------------ 11/16 [pandas]\n",
      "   --------------------------- ------------ 11/16 [pandas]\n",
      "   --------------------------- ------------ 11/16 [pandas]\n",
      "   --------------------------- ------------ 11/16 [pandas]\n",
      "   --------------------------- ------------ 11/16 [pandas]\n",
      "   --------------------------- ------------ 11/16 [pandas]\n",
      "   --------------------------- ------------ 11/16 [pandas]\n",
      "   --------------------------- ------------ 11/16 [pandas]\n",
      "   --------------------------- ------------ 11/16 [pandas]\n",
      "   --------------------------- ------------ 11/16 [pandas]\n",
      "   --------------------------- ------------ 11/16 [pandas]\n",
      "   --------------------------- ------------ 11/16 [pandas]\n",
      "   --------------------------- ------------ 11/16 [pandas]\n",
      "   --------------------------- ------------ 11/16 [pandas]\n",
      "   --------------------------- ------------ 11/16 [pandas]\n",
      "   --------------------------- ------------ 11/16 [pandas]\n",
      "   --------------------------- ------------ 11/16 [pandas]\n",
      "   --------------------------- ------------ 11/16 [pandas]\n",
      "   --------------------------- ------------ 11/16 [pandas]\n",
      "   --------------------------- ------------ 11/16 [pandas]\n",
      "   --------------------------- ------------ 11/16 [pandas]\n",
      "   --------------------------- ------------ 11/16 [pandas]\n",
      "   --------------------------- ------------ 11/16 [pandas]\n",
      "   --------------------------- ------------ 11/16 [pandas]\n",
      "   --------------------------- ------------ 11/16 [pandas]\n",
      "   --------------------------- ------------ 11/16 [pandas]\n",
      "   --------------------------- ------------ 11/16 [pandas]\n",
      "   --------------------------- ------------ 11/16 [pandas]\n",
      "   --------------------------- ------------ 11/16 [pandas]\n",
      "   --------------------------- ------------ 11/16 [pandas]\n",
      "   --------------------------- ------------ 11/16 [pandas]\n",
      "   --------------------------- ------------ 11/16 [pandas]\n",
      "   --------------------------- ------------ 11/16 [pandas]\n",
      "   --------------------------- ------------ 11/16 [pandas]\n",
      "   --------------------------- ------------ 11/16 [pandas]\n",
      "   --------------------------- ------------ 11/16 [pandas]\n",
      "   --------------------------- ------------ 11/16 [pandas]\n",
      "   --------------------------- ------------ 11/16 [pandas]\n",
      "   --------------------------- ------------ 11/16 [pandas]\n",
      "   --------------------------- ------------ 11/16 [pandas]\n",
      "   --------------------------- ------------ 11/16 [pandas]\n",
      "   --------------------------- ------------ 11/16 [pandas]\n",
      "   --------------------------- ------------ 11/16 [pandas]\n",
      "   --------------------------- ------------ 11/16 [pandas]\n",
      "   --------------------------- ------------ 11/16 [pandas]\n",
      "   --------------------------- ------------ 11/16 [pandas]\n",
      "   --------------------------- ------------ 11/16 [pandas]\n",
      "   --------------------------- ------------ 11/16 [pandas]\n",
      "   --------------------------- ------------ 11/16 [pandas]\n",
      "   --------------------------- ------------ 11/16 [pandas]\n",
      "   --------------------------- ------------ 11/16 [pandas]\n",
      "   --------------------------- ------------ 11/16 [pandas]\n",
      "   --------------------------- ------------ 11/16 [pandas]\n",
      "   --------------------------- ------------ 11/16 [pandas]\n",
      "   --------------------------- ------------ 11/16 [pandas]\n",
      "   --------------------------- ------------ 11/16 [pandas]\n",
      "   --------------------------- ------------ 11/16 [pandas]\n",
      "   --------------------------- ------------ 11/16 [pandas]\n",
      "   --------------------------- ------------ 11/16 [pandas]\n",
      "   --------------------------- ------------ 11/16 [pandas]\n",
      "   --------------------------- ------------ 11/16 [pandas]\n",
      "   --------------------------- ------------ 11/16 [pandas]\n",
      "   --------------------------- ------------ 11/16 [pandas]\n",
      "   --------------------------- ------------ 11/16 [pandas]\n",
      "   --------------------------- ------------ 11/16 [pandas]\n",
      "   --------------------------- ------------ 11/16 [pandas]\n",
      "   --------------------------- ------------ 11/16 [pandas]\n",
      "   --------------------------- ------------ 11/16 [pandas]\n",
      "   --------------------------- ------------ 11/16 [pandas]\n",
      "   --------------------------- ------------ 11/16 [pandas]\n",
      "   --------------------------- ------------ 11/16 [pandas]\n",
      "   --------------------------- ------------ 11/16 [pandas]\n",
      "   --------------------------- ------------ 11/16 [pandas]\n",
      "   --------------------------- ------------ 11/16 [pandas]\n",
      "   --------------------------- ------------ 11/16 [pandas]\n",
      "   --------------------------- ------------ 11/16 [pandas]\n",
      "   --------------------------- ------------ 11/16 [pandas]\n",
      "   --------------------------- ------------ 11/16 [pandas]\n",
      "   --------------------------- ------------ 11/16 [pandas]\n",
      "   --------------------------- ------------ 11/16 [pandas]\n",
      "   --------------------------- ------------ 11/16 [pandas]\n",
      "   --------------------------- ------------ 11/16 [pandas]\n",
      "   --------------------------- ------------ 11/16 [pandas]\n",
      "   --------------------------- ------------ 11/16 [pandas]\n",
      "   --------------------------- ------------ 11/16 [pandas]\n",
      "   --------------------------- ------------ 11/16 [pandas]\n",
      "   --------------------------- ------------ 11/16 [pandas]\n",
      "   --------------------------- ------------ 11/16 [pandas]\n",
      "   --------------------------- ------------ 11/16 [pandas]\n",
      "   --------------------------- ------------ 11/16 [pandas]\n",
      "   --------------------------- ------------ 11/16 [pandas]\n",
      "   --------------------------- ------------ 11/16 [pandas]\n",
      "   --------------------------- ------------ 11/16 [pandas]\n",
      "   --------------------------- ------------ 11/16 [pandas]\n",
      "   --------------------------- ------------ 11/16 [pandas]\n",
      "   --------------------------- ------------ 11/16 [pandas]\n",
      "   --------------------------- ------------ 11/16 [pandas]\n",
      "   --------------------------- ------------ 11/16 [pandas]\n",
      "   --------------------------- ------------ 11/16 [pandas]\n",
      "   --------------------------- ------------ 11/16 [pandas]\n",
      "   --------------------------- ------------ 11/16 [pandas]\n",
      "   --------------------------- ------------ 11/16 [pandas]\n",
      "   --------------------------- ------------ 11/16 [pandas]\n",
      "   --------------------------- ------------ 11/16 [pandas]\n",
      "   --------------------------- ------------ 11/16 [pandas]\n",
      "   --------------------------- ------------ 11/16 [pandas]\n",
      "   --------------------------- ------------ 11/16 [pandas]\n",
      "   --------------------------- ------------ 11/16 [pandas]\n",
      "   --------------------------- ------------ 11/16 [pandas]\n",
      "   --------------------------- ------------ 11/16 [pandas]\n",
      "   --------------------------- ------------ 11/16 [pandas]\n",
      "   --------------------------- ------------ 11/16 [pandas]\n",
      "   --------------------------- ------------ 11/16 [pandas]\n",
      "   --------------------------- ------------ 11/16 [pandas]\n",
      "   --------------------------- ------------ 11/16 [pandas]\n",
      "   --------------------------- ------------ 11/16 [pandas]\n",
      "   --------------------------- ------------ 11/16 [pandas]\n",
      "   --------------------------- ------------ 11/16 [pandas]\n",
      "   --------------------------- ------------ 11/16 [pandas]\n",
      "   --------------------------- ------------ 11/16 [pandas]\n",
      "   --------------------------- ------------ 11/16 [pandas]\n",
      "   --------------------------- ------------ 11/16 [pandas]\n",
      "   --------------------------- ------------ 11/16 [pandas]\n",
      "   --------------------------- ------------ 11/16 [pandas]\n",
      "   --------------------------- ------------ 11/16 [pandas]\n",
      "   --------------------------- ------------ 11/16 [pandas]\n",
      "   --------------------------- ------------ 11/16 [pandas]\n",
      "   --------------------------- ------------ 11/16 [pandas]\n",
      "   --------------------------- ------------ 11/16 [pandas]\n",
      "   --------------------------- ------------ 11/16 [pandas]\n",
      "   --------------------------- ------------ 11/16 [pandas]\n",
      "   --------------------------- ------------ 11/16 [pandas]\n",
      "   --------------------------- ------------ 11/16 [pandas]\n",
      "   --------------------------- ------------ 11/16 [pandas]\n",
      "   --------------------------- ------------ 11/16 [pandas]\n",
      "   --------------------------- ------------ 11/16 [pandas]\n",
      "   --------------------------- ------------ 11/16 [pandas]\n",
      "   --------------------------- ------------ 11/16 [pandas]\n",
      "   --------------------------- ------------ 11/16 [pandas]\n",
      "   ------------------------------ --------- 12/16 [multiprocess]\n",
      "   ------------------------------ --------- 12/16 [multiprocess]\n",
      "   ------------------------------ --------- 12/16 [multiprocess]\n",
      "   ------------------------------ --------- 12/16 [multiprocess]\n",
      "   ------------------------------ --------- 12/16 [multiprocess]\n",
      "   ------------------------------ --------- 12/16 [multiprocess]\n",
      "   -------------------------------- ------- 13/16 [aiosignal]\n",
      "   ----------------------------------- ---- 14/16 [aiohttp]\n",
      "   ----------------------------------- ---- 14/16 [aiohttp]\n",
      "   ----------------------------------- ---- 14/16 [aiohttp]\n",
      "   ----------------------------------- ---- 14/16 [aiohttp]\n",
      "   ----------------------------------- ---- 14/16 [aiohttp]\n",
      "   ----------------------------------- ---- 14/16 [aiohttp]\n",
      "   ----------------------------------- ---- 14/16 [aiohttp]\n",
      "   ----------------------------------- ---- 14/16 [aiohttp]\n",
      "   ----------------------------------- ---- 14/16 [aiohttp]\n",
      "   ----------------------------------- ---- 14/16 [aiohttp]\n",
      "   ----------------------------------- ---- 14/16 [aiohttp]\n",
      "   ----------------------------------- ---- 14/16 [aiohttp]\n",
      "   ------------------------------------- -- 15/16 [datasets]\n",
      "   ------------------------------------- -- 15/16 [datasets]\n",
      "   ------------------------------------- -- 15/16 [datasets]\n",
      "   ------------------------------------- -- 15/16 [datasets]\n",
      "   ------------------------------------- -- 15/16 [datasets]\n",
      "   ------------------------------------- -- 15/16 [datasets]\n",
      "   ------------------------------------- -- 15/16 [datasets]\n",
      "   ------------------------------------- -- 15/16 [datasets]\n",
      "   ------------------------------------- -- 15/16 [datasets]\n",
      "   ------------------------------------- -- 15/16 [datasets]\n",
      "   ------------------------------------- -- 15/16 [datasets]\n",
      "   ------------------------------------- -- 15/16 [datasets]\n",
      "   ------------------------------------- -- 15/16 [datasets]\n",
      "   ---------------------------------------- 16/16 [datasets]\n",
      "\n",
      "Successfully installed aiohappyeyeballs-2.6.1 aiohttp-3.13.0 aiosignal-1.4.0 attrs-25.4.0 datasets-4.1.1 dill-0.4.0 frozenlist-1.8.0 multidict-6.7.0 multiprocess-0.70.16 pandas-2.3.3 propcache-0.4.1 pyarrow-21.0.0 pytz-2025.2 tzdata-2025.2 xxhash-3.6.0 yarl-1.22.0\n"
     ]
    },
    {
     "name": "stderr",
     "output_type": "stream",
     "text": [
      "\n",
      "[notice] A new release of pip is available: 25.1.1 -> 25.2\n",
      "[notice] To update, run: python.exe -m pip install --upgrade pip\n"
     ]
    }
   ],
   "source": [
    "# %pip install datasets"
   ]
  },
  {
   "cell_type": "code",
   "execution_count": 16,
   "id": "6b60057a",
   "metadata": {},
   "outputs": [
    {
     "name": "stderr",
     "output_type": "stream",
     "text": [
      "c:\\Users\\praty\\Desktop\\GSoc\\Notes on LM\\.venv\\Lib\\site-packages\\tqdm\\auto.py:21: TqdmWarning: IProgress not found. Please update jupyter and ipywidgets. See https://ipywidgets.readthedocs.io/en/stable/user_install.html\n",
      "  from .autonotebook import tqdm as notebook_tqdm\n",
      "c:\\Users\\praty\\Desktop\\GSoc\\Notes on LM\\.venv\\Lib\\site-packages\\huggingface_hub\\file_download.py:143: UserWarning: `huggingface_hub` cache-system uses symlinks by default to efficiently store duplicated files but your machine does not support them in C:\\Users\\praty\\.cache\\huggingface\\hub\\datasets--biglam--gutenberg-poetry-corpus. Caching files will still work but in a degraded version that might require more space on your disk. This warning can be disabled by setting the `HF_HUB_DISABLE_SYMLINKS_WARNING` environment variable. For more details, see https://huggingface.co/docs/huggingface_hub/how-to-cache#limitations.\n",
      "To support symlinks on Windows, you either need to activate Developer Mode or to run Python as an administrator. In order to activate developer mode, see this article: https://docs.microsoft.com/en-us/windows/apps/get-started/enable-your-device-for-development\n",
      "  warnings.warn(message)\n",
      "Xet Storage is enabled for this repo, but the 'hf_xet' package is not installed. Falling back to regular HTTP download. For better performance, install the package with: `pip install huggingface_hub[hf_xet]` or `pip install hf_xet`\n",
      "Generating train split: 100%|██████████| 3085117/3085117 [00:00<00:00, 6000904.58 examples/s]\n"
     ]
    }
   ],
   "source": [
    "from datasets import load_dataset\n",
    "\n",
    "ds = load_dataset(\"biglam/gutenberg-poetry-corpus\")"
   ]
  },
  {
   "cell_type": "code",
   "execution_count": 42,
   "id": "aaf39e80",
   "metadata": {},
   "outputs": [],
   "source": [
    "corpus = ds['train']['line'][:100]"
   ]
  },
  {
   "cell_type": "code",
   "execution_count": 43,
   "id": "fed897ed",
   "metadata": {},
   "outputs": [
    {
     "data": {
      "text/plain": [
       "['The Song of Hiawatha is based on the legends and stories of',\n",
       " 'many North American Indian tribes, but especially those of the',\n",
       " 'Ojibway Indians of northern Michigan, Wisconsin, and Minnesota.',\n",
       " 'They were collected by Henry Rowe Schoolcraft, the reknowned',\n",
       " 'Schoolcraft married Jane, O-bah-bahm-wawa-ge-zhe-go-qua (The',\n",
       " 'fur trader, and O-shau-gus-coday-way-qua (The Woman of the Green',\n",
       " 'Prairie), who was a daughter of Waub-o-jeeg (The White Fisher),',\n",
       " 'who was Chief of the Ojibway tribe at La Pointe, Wisconsin.',\n",
       " 'Jane and her mother are credited with having researched,',\n",
       " 'authenticated, and compiled much of the material Schoolcraft',\n",
       " 'included in his Algic Researches (1839) and a revision published',\n",
       " 'in 1856 as The Myth of Hiawatha.  It was this latter revision',\n",
       " 'that Longfellow used as the basis for The Song of Hiawatha.',\n",
       " 'Longfellow began Hiawatha on June 25, 1854, he completed it',\n",
       " 'soon as the poem was  published its popularity was assured.',\n",
       " 'However, it also was severely criticized as a plagiary of the',\n",
       " 'Finnish epic poem Kalevala.  Longfellow made no secret of the',\n",
       " 'fact that he had used the meter of the Kalevala; but as for the',\n",
       " 'legends, he openly gave credit to Schoolcraft in his notes to the',\n",
       " \"I would add a personal note here.  My father's roots include\",\n",
       " 'Ojibway Indians: his mother, Margaret Caroline Davenport, was a',\n",
       " 'daughter of Susan des Carreaux, O-gee-em-a-qua (The Chief Woman),',\n",
       " 'Finally, my mother used to rock me to sleep reading portions of',\n",
       " 'Hiawatha to me, especially:',\n",
       " '\"Wah-wah-taysee, little fire-fly,',\n",
       " 'Little, flitting, white-fire insect',\n",
       " 'Little, dancing, white-fire creature,',\n",
       " 'Light me with your little candle,',\n",
       " 'Ere upon my bed I lay me,',\n",
       " 'Ere in sleep I close my eyelids!\"',\n",
       " 'Should you ask me, whence these stories?',\n",
       " 'Whence these legends and traditions,',\n",
       " 'With the odors of the forest',\n",
       " 'With the dew and damp of meadows,',\n",
       " 'With the curling smoke of wigwams,',\n",
       " 'With the rushing of great rivers,',\n",
       " 'With their frequent repetitions,',\n",
       " 'And their wild reverberations',\n",
       " 'As of thunder in the mountains?',\n",
       " 'I should answer, I should tell you,',\n",
       " '\"From the forests and the prairies,',\n",
       " 'From the great lakes of the Northland,',\n",
       " 'From the land of the Ojibways,',\n",
       " 'From the land of the Dacotahs,',\n",
       " 'From the mountains, moors, and fen-lands',\n",
       " 'Where the heron, the Shuh-shuh-gah,',\n",
       " 'Feeds among the reeds and rushes.',\n",
       " 'I repeat them as I heard them',\n",
       " 'From the lips of Nawadaha,',\n",
       " 'The musician, the sweet singer.\"',\n",
       " 'Should you ask where Nawadaha',\n",
       " 'Found these songs so wild and wayward,',\n",
       " 'Found these legends and traditions,',\n",
       " 'I should answer, I should tell you,',\n",
       " '\"In the bird\\'s-nests of the forest,',\n",
       " 'In the lodges of the beaver,',\n",
       " 'In the hoofprint of the bison,',\n",
       " 'In the eyry of the eagle!',\n",
       " '\"All the wild-fowl sang them to him,',\n",
       " 'In the moorlands and the fen-lands,',\n",
       " 'In the melancholy marshes;',\n",
       " 'Chetowaik, the plover, sang them,',\n",
       " 'Mahng, the loon, the wild-goose, Wawa,',\n",
       " 'The blue heron, the Shuh-shuh-gah,',\n",
       " 'And the grouse, the Mushkodasa!\"',\n",
       " 'If still further you should ask me,',\n",
       " 'Tell us of this Nawadaha,\"',\n",
       " 'I should answer your inquiries',\n",
       " 'Straightway in such words as follow.',\n",
       " '\"In the vale of Tawasentha,',\n",
       " 'In the green and silent valley,',\n",
       " 'By the pleasant water-courses,',\n",
       " 'Dwelt the singer Nawadaha.',\n",
       " 'Round about the Indian village',\n",
       " 'Spread the meadows and the corn-fields,',\n",
       " 'And beyond them stood the forest,',\n",
       " 'Stood the groves of singing pine-trees,',\n",
       " 'Green in Summer, white in Winter,',\n",
       " 'Ever sighing, ever singing.',\n",
       " '\"And the pleasant water-courses,',\n",
       " 'You could trace them through the valley,',\n",
       " 'By the rushing in the Spring-time,',\n",
       " 'By the alders in the Summer,',\n",
       " 'By the white fog in the Autumn,',\n",
       " 'By the black line in the Winter;',\n",
       " 'And beside them dwelt the singer,',\n",
       " 'In the vale of Tawasentha,',\n",
       " 'In the green and silent valley.',\n",
       " '\"There he sang of Hiawatha,',\n",
       " 'Sang his wondrous birth and being,',\n",
       " 'How he prayed and how be fasted,',\n",
       " 'How he lived, and toiled, and suffered,',\n",
       " 'That the tribes of men might prosper,',\n",
       " 'That he might advance his people!\"',\n",
       " 'Ye who love the haunts of Nature,',\n",
       " 'Love the sunshine of the meadow,',\n",
       " 'Love the shadow of the forest,',\n",
       " 'Love the wind among the branches,',\n",
       " 'And the rain-shower and the snow-storm,',\n",
       " 'And the rushing of great rivers']"
      ]
     },
     "execution_count": 43,
     "metadata": {},
     "output_type": "execute_result"
    }
   ],
   "source": [
    "corpus"
   ]
  },
  {
   "cell_type": "code",
   "execution_count": 44,
   "id": "53baa769",
   "metadata": {},
   "outputs": [
    {
     "name": "stderr",
     "output_type": "stream",
     "text": [
      "None of PyTorch, TensorFlow >= 2.0, or Flax have been found. Models won't be available and only tokenizers, configuration and file/data utilities can be used.\n"
     ]
    }
   ],
   "source": [
    "bpe = BPE(vocab_size=500, corpus=corpus)"
   ]
  },
  {
   "cell_type": "code",
   "execution_count": 56,
   "id": "cd0331c0",
   "metadata": {},
   "outputs": [
    {
     "data": {
      "text/plain": [
       "['z', 'Ġ', 'th', 'the', 'Ġthe']"
      ]
     },
     "execution_count": 56,
     "metadata": {},
     "output_type": "execute_result"
    }
   ],
   "source": [
    "bpe.get_vocab()[45:50]"
   ]
  },
  {
   "cell_type": "code",
   "execution_count": 58,
   "id": "8c7c76d0",
   "metadata": {},
   "outputs": [
    {
     "data": {
      "text/plain": [
       "False"
      ]
     },
     "execution_count": 58,
     "metadata": {},
     "output_type": "execute_result"
    }
   ],
   "source": [
    "unknown_word = \"supercalifragilisticexpialidocious\"\n",
    "unknown_word in bpe.get_vocab()"
   ]
  },
  {
   "cell_type": "code",
   "execution_count": 59,
   "id": "83213461",
   "metadata": {},
   "outputs": [
    {
     "data": {
      "text/plain": [
       "['s',\n",
       " 'u',\n",
       " 'p',\n",
       " 'er',\n",
       " 'c',\n",
       " 'al',\n",
       " 'i',\n",
       " 'f',\n",
       " 'ra',\n",
       " 'g',\n",
       " 'i',\n",
       " 'l',\n",
       " 'is',\n",
       " 't',\n",
       " 'ic',\n",
       " 'e',\n",
       " 'x',\n",
       " 'p',\n",
       " 'i',\n",
       " 'al',\n",
       " 'i',\n",
       " 'd',\n",
       " 'o',\n",
       " 'c',\n",
       " 'i',\n",
       " 'ou',\n",
       " 's']"
      ]
     },
     "execution_count": 59,
     "metadata": {},
     "output_type": "execute_result"
    }
   ],
   "source": [
    "bpe.tokenize(\"supercalifragilisticexpialidocious\")"
   ]
  },
  {
   "cell_type": "code",
   "execution_count": 60,
   "id": "2566ecfd",
   "metadata": {},
   "outputs": [
    {
     "name": "stdout",
     "output_type": "stream",
     "text": [
      "Warning: Could only build vocabulary of size 889 (requested 5000)\n"
     ]
    },
    {
     "data": {
      "text/plain": [
       "['s',\n",
       " 'u',\n",
       " 'p',\n",
       " 'er',\n",
       " 'c',\n",
       " 'al',\n",
       " 'if',\n",
       " 'ra',\n",
       " 'g',\n",
       " 'i',\n",
       " 'l',\n",
       " 'is',\n",
       " 't',\n",
       " 'ic',\n",
       " 'e',\n",
       " 'x',\n",
       " 'p',\n",
       " 'i',\n",
       " 'al',\n",
       " 'i',\n",
       " 'd',\n",
       " 'o',\n",
       " 'c',\n",
       " 'i',\n",
       " 'ou',\n",
       " 's']"
      ]
     },
     "execution_count": 60,
     "metadata": {},
     "output_type": "execute_result"
    }
   ],
   "source": [
    "bpe = BPE(vocab_size=5000, corpus=corpus)\n",
    "bpe.tokenize(\"supercalifragilisticexpialidocious\")"
   ]
  },
  {
   "cell_type": "markdown",
   "id": "66b21fb4",
   "metadata": {},
   "source": [
    "1. For a small vocabulary (50): This is expected behavior. With a small vocabulary, BPE will break down long words into smaller subword units.\n",
    "2. For a larger vocabulary (5000): This might indicate that:\n",
    "    - Our corpus doesn't contain enough examples of long words\n",
    "    - The vocabulary size is still too small for the complexity of our language\n",
    "    - The training data doesn't include similar word patterns"
   ]
  },
  {
   "cell_type": "code",
   "execution_count": 61,
   "id": "7b83c70f",
   "metadata": {},
   "outputs": [
    {
     "name": "stdout",
     "output_type": "stream",
     "text": [
      "Warning: Could only build vocabulary of size 889 (requested 10000)\n"
     ]
    },
    {
     "data": {
      "text/plain": [
       "['s',\n",
       " 'u',\n",
       " 'p',\n",
       " 'er',\n",
       " 'c',\n",
       " 'al',\n",
       " 'if',\n",
       " 'ra',\n",
       " 'g',\n",
       " 'i',\n",
       " 'l',\n",
       " 'is',\n",
       " 't',\n",
       " 'ic',\n",
       " 'e',\n",
       " 'x',\n",
       " 'p',\n",
       " 'i',\n",
       " 'al',\n",
       " 'i',\n",
       " 'd',\n",
       " 'o',\n",
       " 'c',\n",
       " 'i',\n",
       " 'ou',\n",
       " 's']"
      ]
     },
     "execution_count": 61,
     "metadata": {},
     "output_type": "execute_result"
    }
   ],
   "source": [
    "# let's increase the vocabulary size to 10000\n",
    "bpe = BPE(vocab_size=10000, corpus=corpus)\n",
    "bpe.tokenize(\"supercalifragilisticexpialidocious\")\n"
   ]
  },
  {
   "cell_type": "markdown",
   "id": "f37f3f2f",
   "metadata": {},
   "source": [
    ">A well trained BPE tokenizer with sufficient vocabulary size will give something like this     \n",
    "\n",
    "['super', 'cali', 'frag', 'ilistic', 'exp', 'iali', 'doc', 'ious']"
   ]
  },
  {
   "cell_type": "code",
   "execution_count": 63,
   "id": "c41b0113",
   "metadata": {},
   "outputs": [],
   "source": [
    "corpus = ds['train']['line'][:1000]"
   ]
  },
  {
   "cell_type": "code",
   "execution_count": 64,
   "id": "cd37a8ce",
   "metadata": {},
   "outputs": [
    {
     "name": "stdout",
     "output_type": "stream",
     "text": [
      "Warning: Could only build vocabulary of size 3164 (requested 10000)\n"
     ]
    }
   ],
   "source": [
    "bpe = BPE(vocab_size=10000, corpus=corpus)"
   ]
  },
  {
   "cell_type": "code",
   "execution_count": 65,
   "id": "24db80dc",
   "metadata": {},
   "outputs": [
    {
     "data": {
      "text/plain": [
       "['su',\n",
       " 'per',\n",
       " 'c',\n",
       " 'al',\n",
       " 'if',\n",
       " 'rag',\n",
       " 'il',\n",
       " 'ist',\n",
       " 'ice',\n",
       " 'x',\n",
       " 'p',\n",
       " 'i',\n",
       " 'al',\n",
       " 'id',\n",
       " 'o',\n",
       " 'ci',\n",
       " 'ous']"
      ]
     },
     "execution_count": 65,
     "metadata": {},
     "output_type": "execute_result"
    }
   ],
   "source": [
    "bpe.tokenize(\"supercalifragilisticexpialidocious\")"
   ]
  },
  {
   "cell_type": "markdown",
   "id": "19ff1fec",
   "metadata": {},
   "source": [
    "> slightly better but not there"
   ]
  },
  {
   "cell_type": "code",
   "execution_count": 66,
   "id": "5a0d204c",
   "metadata": {},
   "outputs": [
    {
     "name": "stdout",
     "output_type": "stream",
     "text": [
      "Warning: Could only build vocabulary of size 14665 (requested 20000)\n"
     ]
    }
   ],
   "source": [
    "corpus = ds['train']['line'][:10000] # we can extend it upto 3 million\n",
    "bpe = BPE(vocab_size=20000, corpus=corpus)"
   ]
  },
  {
   "cell_type": "code",
   "execution_count": 67,
   "id": "dcc6bb24",
   "metadata": {},
   "outputs": [
    {
     "data": {
      "text/plain": [
       "['super',\n",
       " 'cal',\n",
       " 'if',\n",
       " 'rag',\n",
       " 'il',\n",
       " 'ist',\n",
       " 'ice',\n",
       " 'x',\n",
       " 'p',\n",
       " 'ial',\n",
       " 'id',\n",
       " 'o',\n",
       " 'cious']"
      ]
     },
     "execution_count": 67,
     "metadata": {},
     "output_type": "execute_result"
    }
   ],
   "source": [
    "bpe.tokenize(\"supercalifragilisticexpialidocious\")"
   ]
  },
  {
   "cell_type": "code",
   "execution_count": 72,
   "id": "cc83ad4e",
   "metadata": {},
   "outputs": [
    {
     "name": "stdout",
     "output_type": "stream",
     "text": [
      "Warning: Could only build vocabulary of size 18764 (requested 30000)\n"
     ]
    }
   ],
   "source": [
    "corpus = ds['train']['line'][:15000] # we can extend it upto 3 million\n",
    "bpe = BPE(vocab_size=30000, corpus=corpus)"
   ]
  },
  {
   "cell_type": "code",
   "execution_count": 73,
   "id": "5ec44133",
   "metadata": {},
   "outputs": [
    {
     "data": {
      "text/plain": [
       "['super',\n",
       " 'cal',\n",
       " 'if',\n",
       " 'rag',\n",
       " 'il',\n",
       " 'ist',\n",
       " 'ice',\n",
       " 'x',\n",
       " 'p',\n",
       " 'ial',\n",
       " 'id',\n",
       " 'oc',\n",
       " 'ious']"
      ]
     },
     "execution_count": 73,
     "metadata": {},
     "output_type": "execute_result"
    }
   ],
   "source": [
    "bpe.tokenize(\"supercalifragilisticexpialidocious\")"
   ]
  },
  {
   "cell_type": "markdown",
   "id": "532f7ea1",
   "metadata": {},
   "source": [
    "> Little Close"
   ]
  },
  {
   "cell_type": "markdown",
   "id": "f17def9c",
   "metadata": {},
   "source": [
    "# How to decide the Vocabulary Size ?\n",
    "- Corpus Size: Larger corpus may need larger vocabulary\n",
    "- Language Characteristics: Morphologically rich languages need larger vocabs\n",
    "- Domain-Specific Terms: Technical domains may require specialized tokens\n",
    "- Computational Resources: Larger vocabs require more memory and compute    \n",
    "# Rule of Thumb\n",
    "- Small dataset (1M tokens): 5K-10K\n",
    "- Medium dataset (100M tokens): 30K-50K\n",
    "- Large dataset (1B+ tokens): 50K-100K"
   ]
  },
  {
   "cell_type": "code",
   "execution_count": null,
   "id": "4ac3094c",
   "metadata": {},
   "outputs": [],
   "source": [
    "# When initializing BPE\n",
    "bpe = BPE(\n",
    "    vocab_size=5000,  # Adjust based on your needs\n",
    "    corpus=your_corpus\n",
    ")"
   ]
  },
  {
   "cell_type": "markdown",
   "id": "3c7dc5dd",
   "metadata": {},
   "source": [
    "# Why we are calculating frequencies ?\n",
    "1. to identify Most frequent character/ word pair\n",
    "2. Focus on most useful tokens\n",
    "3. Guides which pairs to merge first\n",
    "4. More frequent pairs merged first for better compression"
   ]
  },
  {
   "cell_type": "code",
   "execution_count": null,
   "id": "04a40694",
   "metadata": {},
   "outputs": [],
   "source": [
    "word_freqs = {\n",
    "    \"hello\": 10,\n",
    "    \"world\": 5,\n",
    "    \"test\": 3\n",
    "}\n",
    "# The pair 'he' in 'hello' gets frequency 10\n",
    "# The pair 'or' in 'world' gets frequency 5"
   ]
  },
  {
   "cell_type": "markdown",
   "id": "394512f5",
   "metadata": {},
   "source": [
    "# Vizualizing the process"
   ]
  },
  {
   "cell_type": "code",
   "execution_count": 102,
   "id": "644d4dbe",
   "metadata": {},
   "outputs": [
    {
     "data": {
      "image/png": "[encoded data removed]",
      "text/plain": [
       "<Figure size 640x480 with 1 Axes>"
      ]
     },
     "metadata": {},
     "output_type": "display_data"
    }
   ],
   "source": [
    "import matplotlib.pyplot as plt\n",
    "\n",
    "def plot_vocab_growth(bpe):\n",
    "    sizes = []\n",
    "    for i in range(10, len(bpe.vocab), 100):\n",
    "        sizes.append((i, len([t for t in bpe.vocab[:i] if len(t) > 1])))\n",
    "    \n",
    "    x, y = zip(*sizes)\n",
    "    plt.plot(x, y)\n",
    "    plt.title(\"Vocabulary Growth (Subword Units)\")\n",
    "    plt.xlabel(\"Vocabulary Size\")\n",
    "    plt.ylabel(\"Number of Multi-character Tokens\")\n",
    "    plt.show()\n",
    "\n",
    "plot_vocab_growth(bpe)"
   ]
  },
  {
   "cell_type": "markdown",
   "id": "6381f0ba",
   "metadata": {},
   "source": [
    "# Common Pitfalls\n",
    "1. Over-normalization: Losing important distinctions\n",
    "2. Under-normalization: Too many unique tokens\n",
    "3. Memory Issues: With very large vocabularies\n",
    "4. Special Tokens: Forgetting to handle special cases (URLs, emails, etc.)\n",
    "5. Performance: Slow tokenization on large texts"
   ]
  },
  {
   "cell_type": "markdown",
   "id": "e363f78f",
   "metadata": {},
   "source": [
    "# Next Steps\n",
    "1. Experiment with different vocabulary sizes\n",
    "2. Compare performance with/without normalization\n",
    "3. Try different tokenization strategies\n",
    "4. Benchmark against other tokenizers\n",
    "5. Implement custom merge rules for domain-specific terms"
   ]
  },
  {
   "cell_type": "markdown",
   "id": "ba576c6e",
   "metadata": {},
   "source": [
    "# What are the cons of BPE ?\n",
    "1. Loss of Word Boundaries\n",
    "    - Merges characters/subwords without considering linguistic meaning\n",
    "        - May split words in unintuitive ways (e.g., \"unhappiness\" → [\"un\", \"happiness\"])\n",
    "2. Fixed Vocabulary Size\n",
    "    - Requires pre-defining vocabulary size (e.g., 32K tokens)\n",
    "        - Suboptimal for handling rare or domain-specific terms\n",
    "        - Adding new terms requires retraining the entire tokenizer\n",
    "3. Inefficient for Some Languages\n",
    "    - Works best for space-delimited languages like English\n",
    "    - Less effective for:\n",
    "        - Agglutinative languages (e.g., Turkish, Finnish)\n",
    "        - Character-based languages (e.g., Chinese, Japanese)\n",
    "        - Highly inflected languages\n",
    "4. Context Insensitivity\n",
    "    - Same word can have different tokenizations based on frequency\n",
    "        - No understanding of word meaning or context\n",
    "        - Example: \"bank\" in \"river bank\" vs. \"bank account\" gets same tokenization\n",
    "5. Suboptimal for Rare Words\n",
    "    - Long, rare words get broken into many subword units\n",
    "        - Increases sequence length unnecessarily\n",
    "        - Example: \"supercalifragilisticexpialidocious\" → multiple subword tokens\n",
    "6. Training Data Dependency\n",
    "    - Tokenization quality heavily depends on training corpus\n",
    "        - May not generalize well to different domains\n",
    "        - Requires retraining for specialized vocabularies\n",
    "7. Computational Overhead\n",
    "    - Training can be resource-intensive for large corpora\n",
    "        - Inference requires multiple merge operations\n",
    "        - More complex than simple word or character tokenization\n",
    "8. Handling of Numbers and Special Characters\n",
    "    - Often splits numbers into individual digits\n",
    "        - May not handle special characters consistently\n",
    "        - Example: \"123-456-7890\" → [\"1\", \"2\", \"3\", \"-\", \"4\", \"5\", \"6\", \"-\", \"7\", \"8\", \"9\", \"0\"]\n",
    "9. No Morphological Understanding\n",
    "    - Doesn't understand word roots, prefixes, or suffixes\n",
    "        - May not capture meaningful subword units for all languages\n",
    "        - Example: \"unhappiness\" → [\"un\", \"happiness\"] instead of [\"un\", \"happy\", \"ness\"]\n",
    "10. Fixed Vocabulary at Inference\n",
    "    - Cannot dynamically add new words without retraining\n",
    "        - All OOV (Out-Of-Vocabulary) words must be represented via subword units\n",
    "        - May lead to suboptimal representations of new or rare terms   \n",
    "\n",
    "    \n",
    "Meanwhile other Tokenization Methods\n"
   ]
  },
  {
   "cell_type": "markdown",
   "id": "a10a07f2",
   "metadata": {},
   "source": [
    "| Aspect | BPE | Word-Level | Character-Level | WordPiece | SentencePiece |\n",
    "|--------|-----|------------|-----------------|-----------|---------------|\n",
    "| Handles OOV | ✓ (subwords) | ✗ | ✓ | ✓ (subwords) | ✓ (subwords) |\n",
    "| Vocabulary Size | Medium | Large | Small | Medium | Medium |\n",
    "| Sequence Length | Medium | Short | Long | Medium | Medium |\n",
    "| Morphology | Limited | No | Yes | Limited | Better |\n",
    "| Training Complexity | High | Low | Low | High | High |\n",
    "| Common Use | GPT, BART | Older models | Char-RNN | BERT | T5, mT5 |\n",
    "\n",
    "\n"
   ]
  },
  {
   "cell_type": "markdown",
   "id": "8eba793c",
   "metadata": {},
   "source": [
    "What we have not covered so far ?\n",
    "1. Word Level with Transformations\n",
    "2. Byte-level BPE\n",
    "3. others"
   ]
  },
  {
   "cell_type": "markdown",
   "id": "228e43de",
   "metadata": {},
   "source": [
    "> Another question: Why different models need their own tokenizers ?"
   ]
  },
  {
   "cell_type": "markdown",
   "id": "951dd5af",
   "metadata": {},
   "source": [
    "# When to use BPE\n",
    "## 1. Good for:\n",
    "- Large language models\n",
    "- Multiple languages\n",
    "- When you need a balance between word and character-level approaches\n",
    "\n",
    "## 2. Consider Alternatives When:\n",
    "- Working with morphologically rich languages\n",
    "- Need to preserve word boundaries\n",
    "- Limited computational resources\n",
    "- Domain-specific terminology is crucial"
   ]
  },
  {
   "cell_type": "markdown",
   "id": "5e41de83",
   "metadata": {},
   "source": [
    "# Mitigation Strategies\n",
    "## 1. For rare words:\n",
    "- Increase vocabulary size\n",
    "- Add domain-specific terms to training data\n",
    "- Use a hybrid approach with a dictionary\n",
    "## 2. For morphologically rich languages:\n",
    "- Consider morphological segmentation\n",
    "- Use language-specific tokenizers before BPE\n",
    "- Try SentencePiece with character coverage tuning\n",
    "## 3. For domain adaptation:\n",
    "- Continue training on domain-specific data\n",
    "- Add domain-specific special tokens\n",
    "- Fine-tune the tokenizer on your corpus"
   ]
  },
  {
   "cell_type": "markdown",
   "id": "3d9448e4",
   "metadata": {},
   "source": [
    "# What is MinBPE ?\n",
    "## MinBPE: A Minimal, Clean Implementation of BPE\n",
    "MinBPE is a simplified, educational implementation of Byte Pair Encoding (BPE) created by Andrej Karpathy. It's designed to be:\n",
    "\n",
    "- Minimal: Focused on core BPE algorithm\n",
    "- Readable: Clean, well-documented code\n",
    "- Educational: Great for learning how BPE works\n",
    "## Key Differences from Full BPE\n",
    "- Simplicity:\n",
    "    - No complex pre-tokenization\n",
    "    - No special token handling\n",
    "    - No subword regularization\n",
    "- Performance:\n",
    "    - Not optimized for speed\n",
    "    - Pure Python implementation\n",
    "    - No parallel processing\n",
    "- Features:\n",
    "    - Basic vocabulary building\n",
    "    - Simple merge operations\n",
    "    - Byte-level encoding"
   ]
  },
  {
   "cell_type": "markdown",
   "id": "e52f2f1d",
   "metadata": {},
   "source": [
    "# Merge algorithm in detail ?\n",
    "1. Get the Most Frequent Pair of Tokens\n",
    "2. Merge the Most Frequent Pair of Tokens\n",
    "3. Update the vocabulary and frequencies\n",
    "4. Repeat until the vocabulary size is reached\n",
    "\n",
    "## Key insights\n",
    "1. Frequency-Based: Always merges most frequent pairs first\n",
    "2. Greedy: Makes locally optimal choice at each step\n",
    "3. Deterministic: Same corpus → same merges\n",
    "4. Order Matters: Early merges affect later ones"
   ]
  },
  {
   "cell_type": "markdown",
   "id": "9ccb0866",
   "metadata": {},
   "source": [
    "# Where i might have gone possibly wrong ?\n",
    "1. Vocabulary Size vs. Corpus Size\n",
    "    - Small corpus with large vocab → Many rare tokens\n",
    "    - Large vocab on small data → Overfitting to training data\n",
    "\n",
    "2. Merge Operations\n",
    "    - Not handling whitespace properly\n",
    "    - Incorrect pair frequency updates\n",
    "    - Not preserving word boundaries\n",
    "\n",
    "3. Edge Cases\n",
    "    - Empty strings\n",
    "    - Numbers and special characters\n",
    "    - Unicode characters\n"
   ]
  },
  {
   "cell_type": "markdown",
   "id": "5fc72cba",
   "metadata": {},
   "source": [
    "# What could have improved ?\n",
    "## Code Quality\n",
    "    1. Error Handling\n",
    "    2. Performance\n",
    "        - Use more efficient data structures\n",
    "        - Add batch processing for large corpora\n",
    "        - Implement caching for frequent operations\n",
    "    3. Testing\n",
    "        - Add unit tests for key functions\n",
    "        - Include edge case testing\n",
    "        - Add integration tests with real data"
   ]
  },
  {
   "cell_type": "markdown",
   "id": "f7cbb4c0",
   "metadata": {},
   "source": [
    "# Next Plans\n",
    "1. Adding Sepcial tokens\n",
    "2. Implement Save/ Load\n",
    "3. pre_tokenization\n",
    "4. Subword Regularization\n",
    "5. Byte-level Fallback\n",
    "6. Vocabulary Pruning"
   ]
  },
  {
   "cell_type": "markdown",
   "id": "557f55c0",
   "metadata": {},
   "source": [
    "### Can we conclude that we can have a useful huge vocabulary from a small corpus ? if yes, then why we will have a large corpus ?\n",
    "## Small Corpus Challenges\n",
    "    - Limited word variety\n",
    "    - Poor generalization\n",
    "    - Unreliable frequency counts\n",
    "## Why Large Corpus Matters\n",
    "- Better Statistics\n",
    "    - More accurate frequency counts\n",
    "    - Better merge decisions\n",
    "- Rare Words\n",
    "    - More examples of rare patterns\n",
    "    - Better handling of edge cases\n",
    "- Contextual Understanding\n",
    "    - Learn domain-specific terms\n",
    "    - Better handling of polysemy"
   ]
  }
 ],
 "metadata": {
  "kernelspec": {
   "display_name": ".venv",
   "language": "python",
   "name": "python3"
  },
  "language_info": {
   "codemirror_mode": {
    "name": "ipython",
    "version": 3
   },
   "file_extension": ".py",
   "mimetype": "text/x-python",
   "name": "python",
   "nbconvert_exporter": "python",
   "pygments_lexer": "ipython3",
   "version": "3.13.5"
  }
 },
 "nbformat": 4,
 "nbformat_minor": 5
}
