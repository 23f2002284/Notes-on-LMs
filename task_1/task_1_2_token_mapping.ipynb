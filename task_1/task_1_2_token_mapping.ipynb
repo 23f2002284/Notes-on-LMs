{
 "cells": [
  {
   "cell_type": "code",
   "execution_count": 1,
   "id": "4df36617",
   "metadata": {},
   "outputs": [
    {
     "name": "stderr",
     "output_type": "stream",
     "text": [
      "c:\\Users\\praty\\Desktop\\GSoc\\Notes on LM\\.venv\\Lib\\site-packages\\tqdm\\auto.py:21: TqdmWarning: IProgress not found. Please update jupyter and ipywidgets. See https://ipywidgets.readthedocs.io/en/stable/user_install.html\n",
      "  from .autonotebook import tqdm as notebook_tqdm\n",
      "None of PyTorch, TensorFlow >= 2.0, or Flax have been found. Models won't be available and only tokenizers, configuration and file/data utilities can be used.\n"
     ]
    },
    {
     "data": {
      "text/html": [
       "<span style='background-color:hsl(192,70%,80%); padding:2px 4px; border-radius:4px; margin:2px'>th</span> <span style='background-color:hsl(70,70%,80%); padding:2px 4px; border-radius:4px; margin:2px'>is</span> <span style='background-color:hsl(12,70%,80%); padding:2px 4px; border-radius:4px; margin:2px'>Ġ</span> <span style='background-color:hsl(129,70%,80%); padding:2px 4px; border-radius:4px; margin:2px'>is</span> <span style='background-color:hsl(158,70%,80%); padding:2px 4px; border-radius:4px; margin:2px'>Ġa</span> <span style='background-color:hsl(299,70%,80%); padding:2px 4px; border-radius:4px; margin:2px'>Ġt</span> <span style='background-color:hsl(278,70%,80%); padding:2px 4px; border-radius:4px; margin:2px'>es</span> <span style='background-color:hsl(204,70%,80%); padding:2px 4px; border-radius:4px; margin:2px'>t</span> <span style='background-color:hsl(348,70%,80%); padding:2px 4px; border-radius:4px; margin:2px'>Ġof</span> <span style='background-color:hsl(111,70%,80%); padding:2px 4px; border-radius:4px; margin:2px'>Ġthe</span> <span style='background-color:hsl(44,70%,80%); padding:2px 4px; border-radius:4px; margin:2px'>Ġb</span> <span style='background-color:hsl(328,70%,80%); padding:2px 4px; border-radius:4px; margin:2px'>pe</span> <span style='background-color:hsl(40,70%,80%); padding:2px 4px; border-radius:4px; margin:2px'>Ġto</span> <span style='background-color:hsl(325,70%,80%); padding:2px 4px; border-radius:4px; margin:2px'>k</span> <span style='background-color:hsl(33,70%,80%); padding:2px 4px; border-radius:4px; margin:2px'>en</span> <span style='background-color:hsl(134,70%,80%); padding:2px 4px; border-radius:4px; margin:2px'>i</span> <span style='background-color:hsl(184,70%,80%); padding:2px 4px; border-radius:4px; margin:2px'>z</span> <span style='background-color:hsl(232,70%,80%); padding:2px 4px; border-radius:4px; margin:2px'>er</span> <span style='background-color:hsl(152,70%,80%); padding:2px 4px; border-radius:4px; margin:2px'>.</span>"
      ],
      "text/plain": [
       "<IPython.core.display.HTML object>"
      ]
     },
     "execution_count": 1,
     "metadata": {},
     "output_type": "execute_result"
    }
   ],
   "source": [
    "import random\n",
    "from IPython.display import HTML\n",
    "from task_1_1_bpe import BPE\n",
    "\n",
    "# a BPE tokenizer instance\n",
    "from datasets import load_dataset\n",
    "\n",
    "ds = load_dataset(\"biglam/gutenberg-poetry-corpus\")\n",
    "\n",
    "corpus = ds[\"train\"][\"line\"][:100]\n",
    "bpe = BPE(vocab_size=200, corpus=corpus)\n",
    "\n",
    "def visualize_tokens(tokens):\n",
    "    colors = [f\"hsl({random.randint(0,360)},70%,80%)\" for _ in tokens]\n",
    "    html = \" \".join(\n",
    "        [f\"<span style='background-color:{c}; padding:2px 4px; border-radius:4px; margin:2px'>{t}</span>\"\n",
    "         for t, c in zip(tokens, colors)]\n",
    "    )\n",
    "    return HTML(html)\n",
    "\n",
    "text = \"This is a test of the BPE tokenizer.\"\n",
    "tokens = bpe.tokenize(text)\n",
    "visualize_tokens(tokens)"
   ]
  },
  {
   "cell_type": "code",
   "execution_count": 3,
   "id": "e60ba0cb",
   "metadata": {},
   "outputs": [
    {
     "name": "stdout",
     "output_type": "stream",
     "text": [
      "Tokenization with IDs:\n"
     ]
    },
    {
     "data": {
      "text/html": [
       "<div style=\"font-family: monospace; line-height: 2.5;\"><span style=\"background-color:hsl(14,70%,85%); color: #333; padding: 4px 8px; border-radius: 4px; margin: 2px; display: inline-block; font-weight: 500; box-shadow: 0 1px 3px rgba(0,0,0,0.1);\">th<br><small style=\"color: #666; font-size: 0.8em;\">ID: 47</small></span><span style=\"background-color:hsl(241,70%,85%); color: #333; padding: 4px 8px; border-radius: 4px; margin: 2px; display: inline-block; font-weight: 500; box-shadow: 0 1px 3px rgba(0,0,0,0.1);\">is<br><small style=\"color: #666; font-size: 0.8em;\">ID: 71</small></span><span style=\"background-color:hsl(201,70%,85%); color: #333; padding: 4px 8px; border-radius: 4px; margin: 2px; display: inline-block; font-weight: 500; box-shadow: 0 1px 3px rgba(0,0,0,0.1);\">Ġ<br><small style=\"color: #666; font-size: 0.8em;\">ID: 46</small></span><span style=\"background-color:hsl(359,70%,85%); color: #333; padding: 4px 8px; border-radius: 4px; margin: 2px; display: inline-block; font-weight: 500; box-shadow: 0 1px 3px rgba(0,0,0,0.1);\">is<br><small style=\"color: #666; font-size: 0.8em;\">ID: 71</small></span><span style=\"background-color:hsl(22,70%,85%); color: #333; padding: 4px 8px; border-radius: 4px; margin: 2px; display: inline-block; font-weight: 500; box-shadow: 0 1px 3px rgba(0,0,0,0.1);\">Ġa<br><small style=\"color: #666; font-size: 0.8em;\">ID: 63</small></span><span style=\"background-color:hsl(252,70%,85%); color: #333; padding: 4px 8px; border-radius: 4px; margin: 2px; display: inline-block; font-weight: 500; box-shadow: 0 1px 3px rgba(0,0,0,0.1);\">Ġt<br><small style=\"color: #666; font-size: 0.8em;\">ID: 74</small></span><span style=\"background-color:hsl(42,70%,85%); color: #333; padding: 4px 8px; border-radius: 4px; margin: 2px; display: inline-block; font-weight: 500; box-shadow: 0 1px 3px rgba(0,0,0,0.1);\">es<br><small style=\"color: #666; font-size: 0.8em;\">ID: 66</small></span><span style=\"background-color:hsl(323,70%,85%); color: #333; padding: 4px 8px; border-radius: 4px; margin: 2px; display: inline-block; font-weight: 500; box-shadow: 0 1px 3px rgba(0,0,0,0.1);\">t<br><small style=\"color: #666; font-size: 0.8em;\">ID: 39</small></span><span style=\"background-color:hsl(144,70%,85%); color: #333; padding: 4px 8px; border-radius: 4px; margin: 2px; display: inline-block; font-weight: 500; box-shadow: 0 1px 3px rgba(0,0,0,0.1);\">Ġof<br><small style=\"color: #666; font-size: 0.8em;\">ID: 56</small></span><span style=\"background-color:hsl(142,70%,85%); color: #333; padding: 4px 8px; border-radius: 4px; margin: 2px; display: inline-block; font-weight: 500; box-shadow: 0 1px 3px rgba(0,0,0,0.1);\">Ġthe<br><small style=\"color: #666; font-size: 0.8em;\">ID: 49</small></span><span style=\"background-color:hsl(102,70%,85%); color: #333; padding: 4px 8px; border-radius: 4px; margin: 2px; display: inline-block; font-weight: 500; box-shadow: 0 1px 3px rgba(0,0,0,0.1);\">Ġb<br><small style=\"color: #666; font-size: 0.8em;\">ID: 72</small></span><span style=\"background-color:hsl(6,70%,85%); color: #333; padding: 4px 8px; border-radius: 4px; margin: 2px; display: inline-block; font-weight: 500; box-shadow: 0 1px 3px rgba(0,0,0,0.1);\">pe<br><small style=\"color: #666; font-size: 0.8em;\">ID: 171</small></span><span style=\"background-color:hsl(334,70%,85%); color: #333; padding: 4px 8px; border-radius: 4px; margin: 2px; display: inline-block; font-weight: 500; box-shadow: 0 1px 3px rgba(0,0,0,0.1);\">Ġto<br><small style=\"color: #666; font-size: 0.8em;\">ID: 120</small></span><span style=\"background-color:hsl(274,70%,85%); color: #333; padding: 4px 8px; border-radius: 4px; margin: 2px; display: inline-block; font-weight: 500; box-shadow: 0 1px 3px rgba(0,0,0,0.1);\">k<br><small style=\"color: #666; font-size: 0.8em;\">ID: 30</small></span><span style=\"background-color:hsl(195,70%,85%); color: #333; padding: 4px 8px; border-radius: 4px; margin: 2px; display: inline-block; font-weight: 500; box-shadow: 0 1px 3px rgba(0,0,0,0.1);\">en<br><small style=\"color: #666; font-size: 0.8em;\">ID: 70</small></span><span style=\"background-color:hsl(338,70%,85%); color: #333; padding: 4px 8px; border-radius: 4px; margin: 2px; display: inline-block; font-weight: 500; box-shadow: 0 1px 3px rgba(0,0,0,0.1);\">i<br><small style=\"color: #666; font-size: 0.8em;\">ID: 28</small></span><span style=\"background-color:hsl(111,70%,85%); color: #333; padding: 4px 8px; border-radius: 4px; margin: 2px; display: inline-block; font-weight: 500; box-shadow: 0 1px 3px rgba(0,0,0,0.1);\">z<br><small style=\"color: #666; font-size: 0.8em;\">ID: 45</small></span><span style=\"background-color:hsl(220,70%,85%); color: #333; padding: 4px 8px; border-radius: 4px; margin: 2px; display: inline-block; font-weight: 500; box-shadow: 0 1px 3px rgba(0,0,0,0.1);\">er<br><small style=\"color: #666; font-size: 0.8em;\">ID: 57</small></span><span style=\"background-color:hsl(56,70%,85%); color: #333; padding: 4px 8px; border-radius: 4px; margin: 2px; display: inline-block; font-weight: 500; box-shadow: 0 1px 3px rgba(0,0,0,0.1);\">.<br><small style=\"color: #666; font-size: 0.8em;\">ID: 8</small></span></div>"
      ],
      "text/plain": [
       "<IPython.core.display.HTML object>"
      ]
     },
     "metadata": {},
     "output_type": "display_data"
    },
    {
     "name": "stdout",
     "output_type": "stream",
     "text": [
      "\n",
      "Original text: This is a test of the BPE tokenizer.\n",
      "Tokens: ['th', 'is', 'Ġ', 'is', 'Ġa', 'Ġt', 'es', 't', 'Ġof', 'Ġthe', 'Ġb', 'pe', 'Ġto', 'k', 'en', 'i', 'z', 'er', '.']\n",
      "Token IDs: [47, 71, 46, 71, 63, 74, 66, 39, 56, 49, 72, 171, 120, 30, 70, 28, 45, 57, 8]\n",
      "\n",
      "Decoded text: this is a test of the bpe tokenizer.\n"
     ]
    }
   ],
   "source": [
    "import random\n",
    "from IPython.display import HTML, display\n",
    "from task_1_1_bpe import BPE\n",
    "\n",
    "# Load dataset and initialize BPE\n",
    "from datasets import load_dataset\n",
    "ds = load_dataset(\"biglam/gutenberg-poetry-corpus\")\n",
    "corpus = ds[\"train\"][\"line\"][:100]\n",
    "bpe = BPE(vocab_size=200, corpus=corpus)\n",
    "\n",
    "def visualize_tokens(tokens, token_ids=None):\n",
    "    # Generate colors with better contrast for text\n",
    "    colors = [f\"hsl({random.randint(0,360)},70%,85%)\" for _ in tokens]\n",
    "    html = '<div style=\"font-family: monospace; line-height: 2.5;\">'\n",
    "    \n",
    "    for i, (t, c) in enumerate(zip(tokens, colors)):\n",
    "        # Dark text on light background\n",
    "        token_info = f'<span style=\"background-color:{c}; color: #333; padding: 4px 8px; border-radius: 4px; margin: 2px; display: inline-block; font-weight: 500; box-shadow: 0 1px 3px rgba(0,0,0,0.1);\">{t}'\n",
    "        if token_ids is not None:\n",
    "            token_info += f'<br><small style=\"color: #666; font-size: 0.8em;\">ID: {token_ids[i]}</small>'\n",
    "        token_info += \"</span>\"\n",
    "        html += token_info\n",
    "    \n",
    "    html += \"</div>\"\n",
    "    return HTML(html)\n",
    "\n",
    "# Example usage\n",
    "text = \"This is a test of the BPE tokenizer.\"\n",
    "tokens = bpe.tokenize(text)\n",
    "token_ids = bpe.encode(text)\n",
    "\n",
    "print(\"Tokenization with IDs:\")\n",
    "display(visualize_tokens(tokens, token_ids))\n",
    "\n",
    "print(\"\\nOriginal text:\", text)\n",
    "print(\"Tokens:\", tokens)\n",
    "print(\"Token IDs:\", token_ids)\n",
    "\n",
    "# Verify decode works\n",
    "decoded_text = bpe.decode(token_ids)\n",
    "print(\"\\nDecoded text:\", decoded_text)"
   ]
  }
 ],
 "metadata": {
  "kernelspec": {
   "display_name": ".venv",
   "language": "python",
   "name": "python3"
  },
  "language_info": {
   "codemirror_mode": {
    "name": "ipython",
    "version": 3
   },
   "file_extension": ".py",
   "mimetype": "text/x-python",
   "name": "python",
   "nbconvert_exporter": "python",
   "pygments_lexer": "ipython3",
   "version": "3.13.5"
  }
 },
 "nbformat": 4,
 "nbformat_minor": 5
}
